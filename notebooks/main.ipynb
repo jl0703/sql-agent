{
 "cells": [
  {
   "cell_type": "markdown",
   "id": "f434cb3c",
   "metadata": {},
   "source": [
    "1. This notebook demo how to build and run an AI agent that translates natural language queries into SQL queries to fetch transaction data from a PostgreSQL database.\n",
    "\n",
    "2. If you want to run this notebook, make sure you have set up the environment variables in a `.env` file with variables stated in the `README.md` file.\n",
    "\n",
    "3. How to Run:\n",
    "    - First, you have to run section `1. Import libraries` first to import all the required libraries.\n",
    "    - Then you can skip to section `5. Combine into an AI workflow` to see how the agent works.\n",
    "    - Other sections are just to show how each component is built."
   ]
  },
  {
   "cell_type": "markdown",
   "id": "8f10f1e1",
   "metadata": {},
   "source": [
    "**1. Import libraries**"
   ]
  },
  {
   "cell_type": "code",
   "execution_count": null,
   "id": "f8443df2",
   "metadata": {},
   "outputs": [
    {
     "data": {
      "text/plain": [
       "True"
      ]
     },
     "execution_count": 41,
     "metadata": {},
     "output_type": "execute_result"
    }
   ],
   "source": [
    "# Import all the required libraries\n",
    "import os\n",
    "import re\n",
    "from typing import List, Literal, Optional, TypedDict\n",
    "\n",
    "from dotenv import load_dotenv\n",
    "from langchain.prompts import ChatPromptTemplate\n",
    "from langchain_openai import AzureChatOpenAI\n",
    "from langgraph.graph import END, START, StateGraph\n",
    "from psycopg import AsyncConnection, ProgrammingError\n",
    "from pydantic import BaseModel, Field\n",
    "\n",
    "load_dotenv()"
   ]
  },
  {
   "cell_type": "code",
   "execution_count": null,
   "id": "b6bdbb71",
   "metadata": {},
   "outputs": [],
   "source": [
    "# Initialize the LLM with Azure OpenAI\n",
    "# Remember to set these environment variables in your .env file first\n",
    "llm = AzureChatOpenAI(\n",
    "    azure_deployment=os.environ[\"AZURE_OPENAI_DEPLOYMENT\"],\n",
    "    api_version=os.environ[\"AZURE_OPENAI_API_VERSION\"],\n",
    "    temperature=0,\n",
    "    seed=42,\n",
    ")"
   ]
  },
  {
   "cell_type": "code",
   "execution_count": 44,
   "id": "6b2d1228",
   "metadata": {},
   "outputs": [],
   "source": [
    "# Initialize the connection string for PostgreSQL\n",
    "conn_string = (\n",
    "    f\"dbname={os.environ['POSTGRES_DB']} \"\n",
    "    f\"user={os.environ['POSTGRES_USER']} \"\n",
    "    f\"password={os.environ['POSTGRES_PASSWORD']} \"\n",
    "    f\"host={os.environ['POSTGRES_SERVER']} \"\n",
    "    f\"port={os.environ['POSTGRES_PORT']} \"\n",
    ")"
   ]
  },
  {
   "cell_type": "markdown",
   "id": "721a4aab",
   "metadata": {},
   "source": [
    "**2. SQL translator node**"
   ]
  },
  {
   "cell_type": "markdown",
   "id": "96f581af",
   "metadata": {},
   "source": [
    "**2.1 Prompt template**\n",
    "- I asked the LLM to act as an expert SQL agent so that it can generate more accurate parameterized SQL queries. The prompt also restricted the LLM to generate read-only access SQL queries prevent the LLM generate unsafe write operations like delete the the transactions table.\n",
    "\n",
    "- I also included the table schema for the transactions table to provide the LLM with the available columns and their data types. This helps the LLM better understand the database structure and prevents it from hallucinating tables or columns that are not existed.\n",
    "\n",
    "- In the instructions section, I applied a Chain-of-Thought prompting techniques by asking the LLM to first reason about whether the user query can be answered with the given table schema, then identify the operations and finally generate a parameterized SQL query. This reasoning process reduces errors and improves the reliability of the generated parameterized SQL queries.\n",
    "\n",
    "- I also defined several edge cases to guide the LLM’s behavior in situations when to not generate parameterized SQL query. For example, it should reject write operations, clarify ambiguous user queries, deny access to other people's data and state clearly when a requested column or table is not available in the schema. This ensure that the LLM responds safely in unexpected scenarios.\n",
    "\n",
    "- I added a fallback mechanism for the sql executor node (which will be explained in the following section) by passing the last SQL execution error message back into the prompt. This allows the LLM to correct its previously generated parameterized SQL query.\n",
    "\n",
    "- Something could be improved in future is that let the LLM to load only the relavant table schemas rather than including all the table schemas. Passing all the tables into the prompt template can increase the context length, increase the API costs and make the prompt template more complex."
   ]
  },
  {
   "cell_type": "code",
   "execution_count": 3,
   "id": "1aed1bd9",
   "metadata": {},
   "outputs": [],
   "source": [
    "sql_translator_template = \"\"\"\n",
    "    [ROLE]\n",
    "    You are an expert SQL agent. You will be given a user query in natural language from [USER].\n",
    "    Your goal is to translate the user query into a parameterized SQL query for read-only access.\n",
    "\n",
    "    [TABLE SCHEMA]\n",
    "    CREATE TABLE transactions (\n",
    "        clnt_id INTEGER,\n",
    "        bank_id INTEGER,\n",
    "        acc_id INTEGER,\n",
    "        txn_id TEXT,\n",
    "        txn_date TIMESTAMP,\n",
    "        description TEXT,\n",
    "        amt NUMERIC(14,2),\n",
    "        cat VARCHAR(100),\n",
    "        merchant VARCHAR(255)\n",
    "    );\n",
    "    \n",
    "    [INSTRUCTIONS]\n",
    "    1. You must ONLY use the tables/columns that are present in [TABLE SCHEMA].\n",
    "    2. You must ensure that the [USER] can ONLY access their own data. \n",
    "    3. Think before you translate the [USER QUERY] into parameterized SQL query.\n",
    "        a. First, identify whether the [USER QUERY] can be answered using the provided [TABLE SCHEMA].\n",
    "        b. If the [USER QUERY] can be answered using the provided [TABLE SCHEMA], identify the operations needed to answer the [USER QUERY].\n",
    "        c. Then, generate a parameterized SQL query using the identified operations and the tables/columns from the [TABLE SCHEMA].\n",
    "        d. Finally, evaluate the generated parameterized SQL query to ensure it is correct and safe.\n",
    "    4. ONLY return a parameterized SQL query and the params if [USER QUERY] can be answered.\n",
    "    \n",
    "    [EDGE CASES]\n",
    "    - If the [USER] tries to modify or delete data, respond with \"Write operations not allowed.\"\n",
    "    - If [USER QUERY] is ambiguous, respond with \"Please clarify your query.\"\n",
    "    - If [USER] tries to access data for another user ([USER QUERY] consists of different client id), respond with \"You may only access your own data.\"\n",
    "    - If [USER] asks about tables/columns not present in [TABLE SCHEMA], respond with \"I cannot answer based on the provided table schemas.\"\n",
    "    - If [ERROR MESSAGE] is present meaning the previous generated parameterized SQL query failed to execute, you MUST correct the parameterized SQL query based on the context of [ERROR MESSAGE].\n",
    "\n",
    "    [USER]\n",
    "    {client_id}\n",
    "\n",
    "    [USER QUERY]\n",
    "    {query}\n",
    "    \n",
    "    [ERROR MESSAGE]\n",
    "    {error_message}\n",
    "\"\"\".strip()"
   ]
  },
  {
   "cell_type": "code",
   "execution_count": 4,
   "id": "79ee7259",
   "metadata": {},
   "outputs": [],
   "source": [
    "# Define the prompt template for SQL translator\n",
    "sql_prompt = ChatPromptTemplate.from_messages(\n",
    "    [\n",
    "        (\"system\", sql_translator_template),\n",
    "        (\"user\", \"{query}\"),\n",
    "    ]\n",
    ")"
   ]
  },
  {
   "cell_type": "markdown",
   "id": "31aa366e",
   "metadata": {},
   "source": [
    "**2.2 Structured output schema**"
   ]
  },
  {
   "cell_type": "code",
   "execution_count": 5,
   "id": "707af9fd",
   "metadata": {},
   "outputs": [],
   "source": [
    "class Param(BaseModel):\n",
    "    \"\"\"Param schema for binding in parameterized SQL query.\"\"\"\n",
    "\n",
    "    name: str = Field(description=\"Parameter name to bind in SQL query\")\n",
    "    value: str = Field(description=\"Parameter value as string\")\n",
    "\n",
    "\n",
    "class SQLTranslator(BaseModel):\n",
    "    \"\"\"Response schema for translating user query into parameterized SQL query.\"\"\"\n",
    "\n",
    "    sql_query: Optional[str] = Field(\n",
    "        description=\"Parameterized SQL query with placeholders.\"\n",
    "    )\n",
    "    params: Optional[List[Param]] = Field(\n",
    "        description=\"List of parameters to bind to the query.\",\n",
    "        default_factory=list,\n",
    "    )\n",
    "    error_message: Optional[str] = Field(\n",
    "        None, description=\"Message to the user if the query cannot be answered.\"\n",
    "    )"
   ]
  },
  {
   "cell_type": "code",
   "execution_count": 6,
   "id": "5977671f",
   "metadata": {},
   "outputs": [],
   "source": [
    "# Wrap the LLM with structured output and the SQLTranslator schema\n",
    "# So that the LLM will generate output by following the SQLTranslator schema\n",
    "structured_llm = llm.with_structured_output(SQLTranslator)"
   ]
  },
  {
   "cell_type": "code",
   "execution_count": 7,
   "id": "c712a9de",
   "metadata": {},
   "outputs": [],
   "source": [
    "query = \"How much did I spend in 2023?\""
   ]
  },
  {
   "cell_type": "markdown",
   "id": "a21a3318",
   "metadata": {},
   "source": [
    "**2.3 LLM invocation**"
   ]
  },
  {
   "cell_type": "code",
   "execution_count": 8,
   "id": "96cdb3fa",
   "metadata": {},
   "outputs": [],
   "source": [
    "# Invoke the structured LLM with the SQL prompt\n",
    "sql_response = await structured_llm.ainvoke(\n",
    "    sql_prompt.invoke({\"client_id\": 1, \"query\": query, \"error_message\": None})\n",
    ")"
   ]
  },
  {
   "cell_type": "code",
   "execution_count": 9,
   "id": "c97942e1",
   "metadata": {},
   "outputs": [
    {
     "name": "stdout",
     "output_type": "stream",
     "text": [
      "SELECT SUM(amt) AS total_spent FROM transactions WHERE clnt_id = ? AND txn_date >= ? AND txn_date < ?;\n",
      "[Param(name='clnt_id', value='1'), Param(name='start_date', value='2023-01-01'), Param(name='end_date', value='2024-01-01')]\n",
      "None\n"
     ]
    }
   ],
   "source": [
    "# We can see the output generated by the LLM is following the SQLTranslator schema\n",
    "# This makes it easy to get the structured data we need\n",
    "print(sql_response.sql_query)\n",
    "print(sql_response.params)\n",
    "print(sql_response.error_message)"
   ]
  },
  {
   "cell_type": "markdown",
   "id": "4c4e9dec",
   "metadata": {},
   "source": [
    "**3. SQL exector node**\n",
    "- I have created \"transactions\" table  and imported data from \"data.csv\" into PostgreSQL"
   ]
  },
  {
   "cell_type": "code",
   "execution_count": 12,
   "id": "7d10f6ad",
   "metadata": {},
   "outputs": [],
   "source": [
    "# I have to replace the parameter placeholders in the generated parameterized SQL query\n",
    "# This is because the LLM may generate different types of placeholders like \"?\", \":param\"\n",
    "# Since this can be solved in code, I will do it here instead of asking the LLM to do it.\n",
    "# So that it won't confuse the LLM with too many instructions.\n",
    "sql_query = sql_response.sql_query.replace(\"?\", \"%s\")\n",
    "sql_query = re.sub(r\":\\w+\", \"%s\", sql_query)\n",
    "values = [param.value for param in sql_response.params] if sql_response.params else []"
   ]
  },
  {
   "cell_type": "markdown",
   "id": "2f79376b",
   "metadata": {},
   "source": [
    "**3.1 Fetch data from db**"
   ]
  },
  {
   "cell_type": "code",
   "execution_count": 13,
   "id": "3bc85b40",
   "metadata": {},
   "outputs": [
    {
     "name": "stdout",
     "output_type": "stream",
     "text": [
      "[(Decimal('85.00'),)]\n",
      "['total_spent']\n",
      "[{'total_spent': Decimal('85.00')}]\n"
     ]
    }
   ],
   "source": [
    "try:\n",
    "    async with await AsyncConnection.connect(conn_string) as conn:\n",
    "        async with conn.cursor() as cur:\n",
    "            await cur.execute(sql_query, values)\n",
    "            rows = await cur.fetchall()\n",
    "            print(rows)\n",
    "\n",
    "            # Get column names which is needed to create dict in next step\n",
    "            columns = [desc[0] for desc in cur.description]\n",
    "            print(columns)\n",
    "\n",
    "            # Convert from list of tuples to list of dicts\n",
    "            # So that the LLM can easily understand which value belongs to which column\n",
    "            result = [dict(zip(columns, row)) for row in rows]\n",
    "            print(result)\n",
    "except ProgrammingError as e:\n",
    "    # This exception will be caught if the generated parameterized SQL query fails to execute\n",
    "    # For example, if the parameterized SQL query's syntax is incorrect or parameters are missing\n",
    "    # I will explain the implementation of the fallback mechanism in the section where I combine everything into an AI workflow\n",
    "    print(f\"SQL Execution Error: {str(e)}\")"
   ]
  },
  {
   "cell_type": "markdown",
   "id": "af445a5b",
   "metadata": {},
   "source": [
    "**4. Generator node**"
   ]
  },
  {
   "cell_type": "markdown",
   "id": "89f82b59",
   "metadata": {},
   "source": [
    "**4.1 Prompt Template**\n",
    "- This is the prompt template for generating response based on the SQL query result and user query.\n",
    "\n",
    "- I gave the LLM a role as an ethical AI assistant to ensure it responds safely.\n",
    "\n",
    "- I also asked the LLM to address the user directly using \"you\" or \"your\" because it looks more natural and human like. Not only that, I asked LLM to avoid avoid using phrases like \"Based on the provided context\" to make the response more direct and clear.\n",
    "\n",
    "- I asked the LLM to only generate response based on the provided context and user query to avoid hallucination."
   ]
  },
  {
   "cell_type": "code",
   "execution_count": null,
   "id": "f7596c0f",
   "metadata": {},
   "outputs": [],
   "source": [
    "generator_template = \"\"\"\n",
    "    [ROLE]\n",
    "    You are an ethical AI assistant that helps users by generating response based on the [CONTEXT] and [USER QUERY].\n",
    "    You MUST always address the user directly using \"you\" or \"your\".\n",
    "    \n",
    "    [INSTRUCTIONS]\n",
    "    1. ONLY generate a clear and direct response based on the [CONTEXT] and the [USER QUERY].\n",
    "    2. Do NOT generate any information that is not present in the [CONTEXT].\n",
    "    3. Do NOT use any phrases like \"Based on the provided context\" or other similar phrases.\n",
    "\n",
    "    [CONTEXT]\n",
    "    {context}\n",
    "    \n",
    "    [USER QUERY]\n",
    "    {query}\n",
    "\"\"\".strip()"
   ]
  },
  {
   "cell_type": "code",
   "execution_count": null,
   "id": "40f55624",
   "metadata": {},
   "outputs": [],
   "source": [
    "generator_prompt = ChatPromptTemplate.from_messages(\n",
    "    [\n",
    "        (\"system\", generator_template),\n",
    "        (\"user\", \"{query}\"),\n",
    "    ]\n",
    ")"
   ]
  },
  {
   "cell_type": "markdown",
   "id": "dd0ca17e",
   "metadata": {},
   "source": [
    "**4.2 Structured output schema**"
   ]
  },
  {
   "cell_type": "code",
   "execution_count": 18,
   "id": "3247a287",
   "metadata": {},
   "outputs": [],
   "source": [
    "class Generator(BaseModel):\n",
    "    \"\"\"Response schema for generating output based on context and user query.\"\"\"\n",
    "\n",
    "    response: str = Field(\n",
    "        description=\"Generated response based on the context and user query.\"\n",
    "    )"
   ]
  },
  {
   "cell_type": "code",
   "execution_count": 19,
   "id": "b8fed9ad",
   "metadata": {},
   "outputs": [],
   "source": [
    "structured_llm = llm.with_structured_output(Generator)"
   ]
  },
  {
   "cell_type": "markdown",
   "id": "fb7f6383",
   "metadata": {},
   "source": [
    "**4.3 LLM invocation**"
   ]
  },
  {
   "cell_type": "code",
   "execution_count": 20,
   "id": "78c5cf6d",
   "metadata": {},
   "outputs": [
    {
     "name": "stdout",
     "output_type": "stream",
     "text": [
      "You spent $85.00 in 2023.\n"
     ]
    }
   ],
   "source": [
    "res = await structured_llm.ainvoke(\n",
    "    generator_prompt.invoke({\"context\": rows, \"query\": query})\n",
    ")\n",
    "print(res.response)"
   ]
  },
  {
   "cell_type": "markdown",
   "id": "d4c79269",
   "metadata": {},
   "source": [
    "**5. Combine into an AI workflow**"
   ]
  },
  {
   "cell_type": "code",
   "execution_count": null,
   "id": "250e4861",
   "metadata": {},
   "outputs": [],
   "source": [
    "# Dynamic chain builder function used to build different agents or node functions\n",
    "def build_chain(prompt_template: str, schema: BaseModel):\n",
    "    \"\"\"Build a LLM chain with the given prompt template and schema for structured output.\n",
    "\n",
    "    Args:\n",
    "        prompt_template (str): The prompt template to use.\n",
    "        schema (Type[BaseModel]): The Pydantic schema to use for structured output.\n",
    "    \"\"\"\n",
    "    prompt = ChatPromptTemplate.from_messages(\n",
    "        [\n",
    "            (\"system\", prompt_template),\n",
    "            (\"user\", \"{query}\"),\n",
    "        ]\n",
    "    )\n",
    "\n",
    "    return prompt | llm.with_structured_output(schema)"
   ]
  },
  {
   "cell_type": "markdown",
   "id": "2179df91",
   "metadata": {},
   "source": [
    "**5.1 Prompt Templates**"
   ]
  },
  {
   "cell_type": "code",
   "execution_count": 22,
   "id": "0fdfc3b4",
   "metadata": {},
   "outputs": [],
   "source": [
    "def sql_translator_template() -> str:\n",
    "    \"\"\"Template for translating user query to parameterized SQL query.\n",
    "\n",
    "    Returns:\n",
    "        str: The SQL translation template with placeholders for dynamic content.\n",
    "    \"\"\"\n",
    "    return \"\"\"\n",
    "        [ROLE]\n",
    "        You are an expert SQL agent. You will be given a user query in natural language from [USER].\n",
    "        Your goal is to translate the user query into a parameterized SQL query for read-only access.\n",
    "\n",
    "        [TABLE SCHEMA]\n",
    "        CREATE TABLE transactions (\n",
    "            clnt_id INTEGER,\n",
    "            bank_id INTEGER,\n",
    "            acc_id INTEGER,\n",
    "            txn_id TEXT,\n",
    "            txn_date TIMESTAMP,\n",
    "            description TEXT,\n",
    "            amt NUMERIC(14,2),\n",
    "            cat VARCHAR(100),\n",
    "            merchant VARCHAR(255)\n",
    "        );\n",
    "        \n",
    "        [INSTRUCTIONS]\n",
    "        1. You must ONLY use the tables/columns that are present in [TABLE SCHEMA].\n",
    "        2. You must ensure that the [USER] can ONLY access their own data. \n",
    "        3. Think before you translate the [USER QUERY] into parameterized SQL query.\n",
    "            a. First, identify whether the [USER QUERY] can be answered using the provided [TABLE SCHEMA].\n",
    "            b. If the [USER QUERY] can be answered using the provided [TABLE SCHEMA], identify the operations needed to answer the [USER QUERY].\n",
    "            c. Then, generate a parameterized SQL query using the identified operations and the tables/columns from the [TABLE SCHEMA].\n",
    "            d. Finally, evaluate the generated parameterized SQL query to ensure it is correct and safe.\n",
    "        4. ONLY return a parameterized SQL query and the params if [USER QUERY] can be answered.\n",
    "        \n",
    "        [EDGE CASES]\n",
    "        - If the [USER] tries to modify or delete data, respond with \"Write operations not allowed.\"\n",
    "        - If [USER QUERY] is ambiguous, respond with \"Please clarify your query.\"\n",
    "        - If [USER] tries to access data for another user ([USER QUERY] consists of different client id), respond with \"You may only access your own data.\"\n",
    "        - If [USER] asks about tables/columns not present in [TABLE SCHEMA], respond with \"I cannot answer based on the provided table schemas.\"\n",
    "        - If [ERROR MESSAGE] is present meaning the previous generated parameterized SQL query failed to execute, you MUST correct the parameterized SQL query based on the context of [ERROR MESSAGE].\n",
    "\n",
    "        [USER]\n",
    "        {client_id}\n",
    "\n",
    "        [USER QUERY]\n",
    "        {query}\n",
    "        \n",
    "        [ERROR MESSAGE]\n",
    "        {error_message}\n",
    "    \"\"\".strip()"
   ]
  },
  {
   "cell_type": "code",
   "execution_count": null,
   "id": "686103d9",
   "metadata": {},
   "outputs": [],
   "source": [
    "def generator_template() -> str:\n",
    "    \"\"\"Template for generating response based on the context and user query.\n",
    "\n",
    "    Returns:\n",
    "        str: The response generation template with placeholders for dynamic content.\n",
    "    \"\"\"\n",
    "    return \"\"\"\n",
    "        [ROLE]\n",
    "        You are an ethical AI assistant that helps users by generating response based on the [CONTEXT] and [USER QUERY].\n",
    "        You MUST always address the user directly using \"you\" or \"your\".\n",
    "        \n",
    "        [INSTRUCTIONS]\n",
    "        1. ONLY generate a clear and direct response based on the [CONTEXT] and the [USER QUERY].\n",
    "        2. Do NOT generate any information that is not present in the [CONTEXT].\n",
    "        3. Do NOT use any phrases like \"Based on the provided context\" or other similar phrases.\n",
    "\n",
    "        [CONTEXT]\n",
    "        {context}\n",
    "        \n",
    "        [USER QUERY]\n",
    "        {query}\n",
    "    \"\"\".strip()"
   ]
  },
  {
   "cell_type": "markdown",
   "id": "655d333f",
   "metadata": {},
   "source": [
    "**5.2 Structured output schema**"
   ]
  },
  {
   "cell_type": "code",
   "execution_count": 28,
   "id": "ac948028",
   "metadata": {},
   "outputs": [],
   "source": [
    "class Param(BaseModel):\n",
    "    \"\"\"Param schema for binding in parameterized SQL query.\"\"\"\n",
    "\n",
    "    name: str = Field(description=\"Parameter name to bind in SQL query\")\n",
    "    value: str = Field(description=\"Parameter value as string\")\n",
    "\n",
    "\n",
    "class SQLTranslator(BaseModel):\n",
    "    \"\"\"Response schema for translating user query into parameterized SQL query.\"\"\"\n",
    "\n",
    "    sql_query: Optional[str] = Field(\n",
    "        description=\"Parameterized SQL query with placeholders.\"\n",
    "    )\n",
    "    params: Optional[List[Param]] = Field(\n",
    "        description=\"List of parameters to bind to the query.\",\n",
    "        default_factory=list,\n",
    "    )\n",
    "    error_message: Optional[str] = Field(\n",
    "        None, description=\"Message to the user if the query cannot be answered.\"\n",
    "    )\n",
    "\n",
    "\n",
    "class Generator(BaseModel):\n",
    "    \"\"\"Response schema for generating output based on context and user query.\"\"\"\n",
    "\n",
    "    response: str = Field(\n",
    "        description=\"Generated response based on the context and user query.\"\n",
    "    )"
   ]
  },
  {
   "cell_type": "markdown",
   "id": "14221b5a",
   "metadata": {},
   "source": [
    "**5.3 State schema**\n",
    "- Each state schema represents the data at different node function in the AI workflow\n",
    "- This makes it easy to track and manage the data."
   ]
  },
  {
   "cell_type": "code",
   "execution_count": 30,
   "id": "cb6c5ec9",
   "metadata": {},
   "outputs": [],
   "source": [
    "class InputState(TypedDict):\n",
    "    \"\"\"Represents the initial input state for processing a query.\"\"\"\n",
    "\n",
    "    client_id: int\n",
    "    query: str\n",
    "\n",
    "\n",
    "class ParamState(TypedDict):\n",
    "    \"\"\"Represents a parameter for a parameterized SQL query.\"\"\"\n",
    "\n",
    "    name: str\n",
    "    value: str\n",
    "\n",
    "\n",
    "class SQLTranslatorState(TypedDict):\n",
    "    \"\"\"Represents the state after translating a query into SQL.\"\"\"\n",
    "\n",
    "    query: str\n",
    "    sql_query: Optional[str]\n",
    "    params: Optional[List[ParamState]]\n",
    "    error_message: Optional[str]\n",
    "    fallback_count: Optional[int]\n",
    "\n",
    "\n",
    "class SQLExecutorState(TypedDict):\n",
    "    \"\"\"Represents the state after executing a SQL query.\"\"\"\n",
    "\n",
    "    query: str\n",
    "    result: Optional[List[dict]]\n",
    "    error_message: Optional[str]\n",
    "    fallback_count: Optional[int]\n",
    "\n",
    "\n",
    "class OutputState(TypedDict):\n",
    "    \"\"\"Represents the final output state after processing the query.\"\"\"\n",
    "\n",
    "    response: str\n",
    "\n",
    "\n",
    "class OverallState(InputState, SQLTranslatorState, SQLExecutorState, OutputState):\n",
    "    \"\"\"Represents the complete state throughout the query processing lifecycle.\"\"\"\n",
    "\n",
    "    pass"
   ]
  },
  {
   "cell_type": "markdown",
   "id": "e7636456",
   "metadata": {},
   "source": [
    "**5.4 Node Functions**\n",
    "- There are total of three node functions which are \"sql_translator\", \"sql_executor\" and \"generator\"."
   ]
  },
  {
   "cell_type": "code",
   "execution_count": 59,
   "id": "ea1a8dbc",
   "metadata": {},
   "outputs": [],
   "source": [
    "async def sql_translator(state: InputState) -> SQLTranslatorState:\n",
    "    \"\"\"Translate the user query into a parameterized SQL query.\n",
    "\n",
    "    Args:\n",
    "        state (InputState): The input state containing the user id and user query.\n",
    "\n",
    "    Returns:\n",
    "        SQLTranslatorState: The SQL translator state containing the translated query and parameters.\n",
    "    \"\"\"\n",
    "    try:\n",
    "        formatted_prompt = build_chain(sql_translator_template(), SQLTranslator)\n",
    "        response = await formatted_prompt.ainvoke(\n",
    "            {\n",
    "                \"client_id\": state[\"client_id\"],\n",
    "                \"query\": state[\"query\"],\n",
    "                \"error_message\": \"\",\n",
    "            }\n",
    "        )\n",
    "\n",
    "        return {\n",
    "            \"query\": state[\"query\"],\n",
    "            \"sql_query\": response.sql_query if response.sql_query else None,\n",
    "            \"params\": (\n",
    "                [\n",
    "                    {\"name\": param.name, \"value\": param.value}\n",
    "                    for param in response.params\n",
    "                ]\n",
    "                if response.params\n",
    "                else None\n",
    "            ),\n",
    "            \"error_message\": (\n",
    "                response.error_message if response.error_message else None\n",
    "            ),\n",
    "        }\n",
    "    except Exception as e:\n",
    "        raise Exception(f\"Error in sql_translator: {str(e)}\")"
   ]
  },
  {
   "cell_type": "code",
   "execution_count": 71,
   "id": "f34259f8",
   "metadata": {},
   "outputs": [],
   "source": [
    "async def sql_executor(state: SQLTranslatorState) -> SQLExecutorState:\n",
    "    \"\"\"Execute the parameterized SQL query and return the results.\n",
    "\n",
    "    Args:\n",
    "        state (SQLTranslatorState): The SQL translator state containing the translated query and parameters.\n",
    "\n",
    "    Returns:\n",
    "        SQLExecutorState: The SQL executor state containing the query results.\n",
    "    \"\"\"\n",
    "    try:\n",
    "        if state[\"sql_query\"] is None:\n",
    "            return {\n",
    "                \"query\": state[\"query\"],\n",
    "                \"result\": None,\n",
    "                \"error_message\": state[\"error_message\"] or \"No SQL query to execute.\",\n",
    "            }\n",
    "\n",
    "        sql_query = state[\"sql_query\"].replace(\"?\", \"%s\")\n",
    "        sql_query = re.sub(r\":\\w+\", \"%s\", sql_query)\n",
    "\n",
    "        values = (\n",
    "            [param[\"value\"] for param in state[\"params\"]] if state.get(\"params\") else []\n",
    "        )\n",
    "\n",
    "        try:\n",
    "            async with await AsyncConnection.connect(conn_string) as conn:\n",
    "                async with conn.cursor() as cur:\n",
    "                    await cur.execute(sql_query, values)\n",
    "                    rows = await cur.fetchall()\n",
    "                    columns = [desc[0] for desc in cur.description]\n",
    "                    result = [dict(zip(columns, row)) for row in rows]\n",
    "\n",
    "            return {\n",
    "                \"query\": state[\"query\"],\n",
    "                \"result\": result,\n",
    "                \"error_message\": None,\n",
    "            }\n",
    "        except ProgrammingError as e:\n",
    "            # When SQL execution fails, it will pass the error message back to SQL translator node\n",
    "            # Then the SQL translator node will anlayze the error message and generate a new parameterized SQL query\n",
    "            # This fallback mechanism will retry up to 3 times.\n",
    "            return {\n",
    "                \"query\": state[\"query\"],\n",
    "                \"result\": None,\n",
    "                \"error_message\": (\n",
    "                    f\"SQL Execution Error: {state['sql_query']} \"\n",
    "                    f\"Params: {state.get('params')} \"\n",
    "                    f\"Error: {str(e)}\"\n",
    "                ),\n",
    "                \"fallback_count\": state.get(\"fallback_count\", 0) + 1,\n",
    "            }\n",
    "\n",
    "    except Exception as e:\n",
    "        raise Exception(f\"Error in sql_executor: {str(e)}\")"
   ]
  },
  {
   "cell_type": "code",
   "execution_count": 61,
   "id": "89b968b1",
   "metadata": {},
   "outputs": [],
   "source": [
    "async def generator(state: SQLExecutorState) -> OutputState:\n",
    "    \"\"\"Generate human-readable response based on the SQL query results.\n",
    "\n",
    "    Args:\n",
    "        state (SQLExecutorState): The SQL executor state containing the query results.\n",
    "\n",
    "    Returns:\n",
    "        OutputState: The output state containing the response.\n",
    "    \"\"\"\n",
    "    try:\n",
    "        if state[\"error_message\"] is not None:\n",
    "            return {\n",
    "                \"response\": state[\"error_message\"],\n",
    "            }\n",
    "\n",
    "        formatted_prompt = build_chain(generator_template(), Generator)\n",
    "        res = await formatted_prompt.ainvoke(\n",
    "            {\n",
    "                \"context\": state[\"result\"] or \"No data found.\",\n",
    "                \"query\": state[\"query\"],\n",
    "            }\n",
    "        )\n",
    "\n",
    "        return {\"response\": res.response}\n",
    "    except Exception as e:\n",
    "        raise Exception(f\"Error in generator: {str(e)}\")"
   ]
  },
  {
   "cell_type": "code",
   "execution_count": null,
   "id": "a60b9e58",
   "metadata": {},
   "outputs": [],
   "source": [
    "# This is the routing function to determine the next step after the SQL translator node finishes.\n",
    "# The Literal type is used to restrict the return value to only \"sql_executor\" or \"generator\" \n",
    "# So that the graph can validate the routing function's return value.\n",
    "def route_after_sql_translator(\n",
    "    state: SQLTranslatorState,\n",
    ") -> Literal[\"sql_executor\", \"generator\"]:\n",
    "    \"\"\"Determine the next step after SQL translation.\n",
    "\n",
    "    Args:\n",
    "        state (SQLTranslatorState): The current state after SQL translation.\n",
    "\n",
    "    Returns:\n",
    "        Literal[\"sql_executor\", \"generator\"]: The next step to take.\n",
    "    \"\"\"\n",
    "    # If there is an error message, it means the parameterized SQL query cannot be generated.\n",
    "    # So I will skip to the generator node to generate a response based on the error message without calling the LLM.\n",
    "    if state.get(\"result\") is not None:\n",
    "        return \"generator\"\n",
    "\n",
    "    # If the fallback count is less than 3, it means the previous generated parameterized SQL query failed to execute.\n",
    "    # Then it will navigate to the SQL executor node to retry executing the new parameterized SQL query generated by the SQL translator node.\n",
    "    if state.get(\"fallback_count\", 0) <= 3:\n",
    "        return \"sql_executor\"\n",
    "\n",
    "    # If the fallback count is more than 3, it means the parameterized SQL query failed to execute 3 times.\n",
    "    # Then I will skip to the generator node to generate a response based on the error message without calling the LLM.\n",
    "    return \"generator\""
   ]
  },
  {
   "cell_type": "code",
   "execution_count": null,
   "id": "72ddc53b",
   "metadata": {},
   "outputs": [],
   "source": [
    "# This is the routing function to determine the next step after the SQL executor node finishes.\n",
    "def route_after_sql_executor(\n",
    "    state: SQLExecutorState,\n",
    ") -> Literal[\"sql_translator\", \"generator\"]:\n",
    "    \"\"\"Determine the next step after SQL execution.\n",
    "\n",
    "    Args:\n",
    "        state (SQLExecutorState): The current state after SQL execution.\n",
    "\n",
    "    Returns:\n",
    "        Literal[\"sql_translator\", \"generator\"]: The next step to take.\n",
    "    \"\"\"\n",
    "    err = state.get(\"error_message\") or \"\"\n",
    "\n",
    "    # If there is an error message with \"SQL Execution Error:\", it means the parameterized SQL query failed to execute.\n",
    "    # Then check the fallback count to decide whether to fallback to the SQL translator node to generate a new parameterized SQL query.\n",
    "    if \"SQL Execution Error:\" in err and state.get(\"fallback_count\", 0) < 3:\n",
    "        return \"sql_translator\"\n",
    "\n",
    "    # Navigate to the generator node to generate a response based on the executed parameterized SQL query results.\n",
    "    return \"generator\""
   ]
  },
  {
   "cell_type": "code",
   "execution_count": null,
   "id": "1573e656",
   "metadata": {},
   "outputs": [],
   "source": [
    "# This function builds the graph representing the agent workflow.\n",
    "# It defines the node functions, connecting the node functions and return the compiled state graph.\n",
    "def build_graph() -> StateGraph:\n",
    "    \"\"\"Build the graph representing the agent workflow.\n",
    "\n",
    "    Returns:\n",
    "        StateGraph: The compiled state graph representing the agent workflow.\n",
    "    \"\"\"\n",
    "    graph = StateGraph(OverallState, input_schema=InputState, output_schema=OutputState)\n",
    "    graph.add_node(\"sql_translator\", sql_translator)\n",
    "    graph.add_node(\"sql_executor\", sql_executor)\n",
    "    graph.add_node(\"generator\", generator)\n",
    "\n",
    "    graph.add_edge(START, \"sql_translator\")\n",
    "    graph.add_conditional_edges(\"sql_translator\", route_after_sql_translator)\n",
    "    graph.add_conditional_edges(\"sql_executor\", route_after_sql_executor)\n",
    "    graph.add_edge(\"generator\", END)\n",
    "\n",
    "    return graph.compile()"
   ]
  },
  {
   "cell_type": "markdown",
   "id": "6f69f765",
   "metadata": {},
   "source": [
    "**5.5 Graph Visualization**"
   ]
  },
  {
   "cell_type": "code",
   "execution_count": 70,
   "id": "c05089d5",
   "metadata": {},
   "outputs": [
    {
     "data": {
      "image/png": "[encoded data removed]",
      "text/plain": [
       "<IPython.core.display.Image object>"
      ]
     },
     "metadata": {},
     "output_type": "display_data"
    }
   ],
   "source": [
    "from IPython.display import Image, display\n",
    "\n",
    "png_bytes = build_graph().get_graph(xray=1).draw_mermaid_png()\n",
    "display(Image(data=png_bytes))"
   ]
  },
  {
   "cell_type": "markdown",
   "id": "029f267f",
   "metadata": {},
   "source": [
    "**5.6 Graph invocation**"
   ]
  },
  {
   "cell_type": "code",
   "execution_count": 72,
   "id": "1375d40d",
   "metadata": {},
   "outputs": [
    {
     "data": {
      "text/plain": [
       "{'response': \"You spent $40.00 in the category 'Loans' and $45.00 in the category 'Transfer Credit' in 2023.\"}"
      ]
     },
     "execution_count": 72,
     "metadata": {},
     "output_type": "execute_result"
    }
   ],
   "source": [
    "await build_graph().ainvoke(\n",
    "    {\n",
    "        \"client_id\": 1,\n",
    "        \"query\": \"How much did I spend and what was the category in 2023?\",\n",
    "    }\n",
    ")"
   ]
  },
  {
   "cell_type": "code",
   "execution_count": 73,
   "id": "95844f2e",
   "metadata": {},
   "outputs": [
    {
     "data": {
      "text/plain": [
       "{'response': 'You spent a total of $85.00 in 2023.'}"
      ]
     },
     "execution_count": 73,
     "metadata": {},
     "output_type": "execute_result"
    }
   ],
   "source": [
    "await build_graph().ainvoke(\n",
    "    {\n",
    "        \"client_id\": 1,\n",
    "        \"query\": \"How much did I spend in 2023?\",\n",
    "    }\n",
    ")"
   ]
  },
  {
   "cell_type": "code",
   "execution_count": 74,
   "id": "9aa8065f",
   "metadata": {},
   "outputs": [
    {
     "data": {
      "text/plain": [
       "{'response': 'You may only access your own data.'}"
      ]
     },
     "execution_count": 74,
     "metadata": {},
     "output_type": "execute_result"
    }
   ],
   "source": [
    "await build_graph().ainvoke(\n",
    "    {\n",
    "        \"client_id\": 1,\n",
    "        \"query\": \"List other people's transactions\",\n",
    "    }\n",
    ")"
   ]
  },
  {
   "cell_type": "code",
   "execution_count": 75,
   "id": "316692d5",
   "metadata": {},
   "outputs": [
    {
     "data": {
      "text/plain": [
       "{'response': 'Here are your transactions:\\n\\n1. **Date:** 2023-08-14, **Description:** ONLINE TRANSFER FROM NDonatas DanyalDA O CARSON BUSINESS CHECKING 1216 1216, **Amount:** $25.00, **Category:** Transfer Credit, **Merchant:** NA\\n2. **Date:** 2023-06-02, **Description:** ONLINE TRANSFER FROM CARSON N EVERYDAY CHECKING 1216 1216, **Amount:** $16.00, **Category:** Transfer Credit, **Merchant:** NA\\n3. **Date:** 2023-06-01, **Description:** ONLINE TRANSFER FROM CARSON N EVERYDAY CHECKING 1216 1216, **Amount:** $4.00, **Category:** Transfer Credit, **Merchant:** NA\\n4. **Date:** 2023-09-29, **Description:** Earnin PAYMENT Donatas Danyal, **Amount:** $20.00, **Category:** Loans, **Merchant:** Earnin\\n5. **Date:** 2023-09-25, **Description:** MONEY TRANSFER AUTHORIZED ON 09/25 FROM Earnin CDAEJ_B CA S583269001208168 111, **Amount:** $20.00, **Category:** Loans, **Merchant:** Earnin'}"
      ]
     },
     "execution_count": 75,
     "metadata": {},
     "output_type": "execute_result"
    }
   ],
   "source": [
    "await build_graph().ainvoke(\n",
    "    {\n",
    "        \"client_id\": 1,\n",
    "        \"query\": \"Show me all my transactions\",\n",
    "    }\n",
    ")"
   ]
  },
  {
   "cell_type": "code",
   "execution_count": 76,
   "id": "f76647b4",
   "metadata": {},
   "outputs": [
    {
     "data": {
      "text/plain": [
       "{'response': 'Write operations not allowed.'}"
      ]
     },
     "execution_count": 76,
     "metadata": {},
     "output_type": "execute_result"
    }
   ],
   "source": [
    "await build_graph().ainvoke(\n",
    "    {\n",
    "        \"client_id\": 1,\n",
    "        \"query\": \"Delete all my transactions\",\n",
    "    }\n",
    ")"
   ]
  },
  {
   "cell_type": "code",
   "execution_count": 77,
   "id": "7466b393",
   "metadata": {},
   "outputs": [
    {
     "data": {
      "text/plain": [
       "{'response': 'Your balance is -2,469,656.22.'}"
      ]
     },
     "execution_count": 77,
     "metadata": {},
     "output_type": "execute_result"
    }
   ],
   "source": [
    "await build_graph().ainvoke(\n",
    "    {\n",
    "        \"client_id\": 880,\n",
    "        \"query\": \"What is my balance?\",\n",
    "    }\n",
    ")"
   ]
  },
  {
   "cell_type": "code",
   "execution_count": 79,
   "id": "227ed82d",
   "metadata": {},
   "outputs": [
    {
     "data": {
      "text/plain": [
       "{'response': 'The categories of transactions are: Check Deposit, Loans, Payroll, Restaurants, Third Party, Transfer Deposit, and Uncategorized.'}"
      ]
     },
     "execution_count": 79,
     "metadata": {},
     "output_type": "execute_result"
    }
   ],
   "source": [
    "await build_graph().ainvoke(\n",
    "    {\n",
    "        \"client_id\": 2,\n",
    "        \"query\": \"Can you show me the categories of transactions?\",\n",
    "    }\n",
    ")"
   ]
  }
 ],
 "metadata": {
  "kernelspec": {
   "display_name": "assessment-5_DYcX1E-py3.13",
   "language": "python",
   "name": "python3"
  },
  "language_info": {
   "codemirror_mode": {
    "name": "ipython",
    "version": 3
   },
   "file_extension": ".py",
   "mimetype": "text/x-python",
   "name": "python",
   "nbconvert_exporter": "python",
   "pygments_lexer": "ipython3",
   "version": "3.13.2"
  }
 },
 "nbformat": 4,
 "nbformat_minor": 5
}
